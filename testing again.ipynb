{
 "cells": [
  {
   "cell_type": "markdown",
   "metadata": {},
   "source": [
    "# Objectives:\n",
    "\n",
    "*Download temperature data from LOBO server using premade function\n",
    "\n",
    "*transform data into suitable format\n",
    "\n",
    "*create and apply a \"low-pass\" filter (i.e. butterworth filter)\n",
    "\n"
   ]
  },
  {
   "cell_type": "markdown",
   "metadata": {},
   "source": [
    "# Other relevant information:\n",
    "* IMPORTANT: Check the previous tutorial\n",
    "\n",
    "* <a href=\"http://lobo.satlantic.com\">LOBO's main page</a>\n",
    "\n",
    "* <a href=\"http://lobo.satlantic.com/loboviz/\">\"LOBOviz\" data download portal</a>"
   ]
  },
  {
   "cell_type": "code",
   "execution_count": 1,
   "metadata": {
    "collapsed": true
   },
   "outputs": [],
   "source": [
    "%matplotlib inline"
   ]
  },
  {
   "cell_type": "code",
   "execution_count": 37,
   "metadata": {
    "collapsed": true
   },
   "outputs": [],
   "source": [
    "#import lobo function as lb\n",
    "import lobodobo as lb"
   ]
  },
  {
   "cell_type": "code",
   "execution_count": 39,
   "metadata": {
    "collapsed": false
   },
   "outputs": [],
   "source": [
    "# Download data from LOBO\n",
    "mydata = lb.load_temp('20120610','20120706',plot=False)"
   ]
  },
  {
   "cell_type": "code",
   "execution_count": 41,
   "metadata": {
    "collapsed": false
   },
   "outputs": [
    {
     "name": "stdout",
     "output_type": "stream",
     "text": [
      "                     temperature [C]\n",
      "date [AST]                          \n",
      "2012-06-10 00:00:00            11.32\n",
      "2012-06-10 01:00:00            11.51\n",
      "2012-06-10 02:00:00            11.52\n",
      "2012-06-10 03:00:00            11.44\n",
      "2012-06-10 04:00:00            11.44\n",
      "2012-06-10 05:00:00            11.47\n",
      "2012-06-10 06:00:00            11.67\n",
      "2012-06-10 07:00:00            12.30\n",
      "2012-06-10 08:00:00            12.45\n",
      "2012-06-10 09:00:00            12.58\n"
     ]
    }
   ],
   "source": [
    "print (mydata[:10])"
   ]
  },
  {
   "cell_type": "code",
   "execution_count": 43,
   "metadata": {
    "collapsed": false
   },
   "outputs": [],
   "source": [
    "# Renaming\n",
    "temp=mydata['temperature [C]']\n",
    "dates=mydata.index"
   ]
  },
  {
   "cell_type": "code",
   "execution_count": 44,
   "metadata": {
    "collapsed": false
   },
   "outputs": [
    {
     "name": "stdout",
     "output_type": "stream",
     "text": [
      "date [AST]\n",
      "2012-06-10 00:00:00    11.32\n",
      "2012-06-10 01:00:00    11.51\n",
      "2012-06-10 02:00:00    11.52\n",
      "2012-06-10 03:00:00    11.44\n",
      "2012-06-10 04:00:00    11.44\n",
      "2012-06-10 05:00:00    11.47\n",
      "2012-06-10 06:00:00    11.67\n",
      "2012-06-10 07:00:00    12.30\n",
      "2012-06-10 08:00:00    12.45\n",
      "2012-06-10 09:00:00    12.58\n",
      "Name: temperature [C], dtype: float64\n"
     ]
    }
   ],
   "source": [
    "print (temp[:10])"
   ]
  },
  {
   "cell_type": "code",
   "execution_count": 45,
   "metadata": {
    "collapsed": false
   },
   "outputs": [
    {
     "name": "stdout",
     "output_type": "stream",
     "text": [
      "DatetimeIndex(['2012-06-10 00:00:00', '2012-06-10 01:00:00',\n",
      "               '2012-06-10 02:00:00', '2012-06-10 03:00:00',\n",
      "               '2012-06-10 04:00:00', '2012-06-10 05:00:00',\n",
      "               '2012-06-10 06:00:00', '2012-06-10 07:00:00',\n",
      "               '2012-06-10 08:00:00', '2012-06-10 09:00:00',\n",
      "               '2012-06-10 10:00:00', '2012-06-10 11:00:00',\n",
      "               '2012-06-10 12:00:00', '2012-06-10 13:00:00',\n",
      "               '2012-06-10 14:00:00', '2012-06-10 15:00:00',\n",
      "               '2012-06-10 16:00:00', '2012-06-10 17:00:00',\n",
      "               '2012-06-10 18:00:00', '2012-06-10 19:00:00'],\n",
      "              dtype='datetime64[ns]', name='date [AST]', freq=None)\n"
     ]
    }
   ],
   "source": [
    "print (dates[:20])"
   ]
  },
  {
   "cell_type": "markdown",
   "metadata": {},
   "source": [
    "# make and apply \"low pass\" filter"
   ]
  },
  {
   "cell_type": "code",
   "execution_count": 55,
   "metadata": {
    "collapsed": true
   },
   "outputs": [],
   "source": [
    "import scipy.signal as signal\n",
    "import matplotlib.pyplot as plt\n",
    "\n",
    "#First, design the Buterworth filter\n",
    "N=2 #Filter order\n",
    "Wn=0.03 #cutoff frequency\n",
    "B, A = signal.butter(N, Wn, output='ba')\n",
    "\n",
    "#Second, apply the filter\n",
    "temp_filt=signal.filtfilt(B,A,temp)\n"
   ]
  },
  {
   "cell_type": "code",
   "execution_count": 56,
   "metadata": {
    "collapsed": false
   },
   "outputs": [
    {
     "data": {
      "text/plain": [
       "<matplotlib.legend.Legend at 0x115e99e10>"
      ]
     },
     "execution_count": 56,
     "metadata": {},
     "output_type": "execute_result"
    },
    {
     "data": {
      "image/png": "[encoded data removed]",
      "text/plain": [
       "<matplotlib.figure.Figure at 0x1156c5f98>"
      ]
     },
     "metadata": {},
     "output_type": "display_data"
    }
   ],
   "source": [
    "#make plots\n",
    "fig=plt.figure()\n",
    "ax1=fig.add_subplot(211)\n",
    "plt.plot(dates, temp, 'b-')\n",
    "plt.plot(dates, temp_filt, 'r-', linewidth=2)\n",
    "plt.ylabel(\"Temperature (oC)\")\n",
    "plt.legend(['Original', 'Filtered'])\n",
    "plt.title(\"Temperature from LOBO\")\n",
    "ax1.axes.get_xaxis().set_visible(False)\n",
    "\n",
    "ax1=fig.add_subplot(212)\n",
    "plt.plot(dates, temp-temp_filt, 'b-')\n",
    "plt.ylabel(\"Temperature (oC)\")\n",
    "plt.xlabel(\"Date\")\n",
    "plt.legend(['Residuals'])"
   ]
  },
  {
   "cell_type": "code",
   "execution_count": null,
   "metadata": {
    "collapsed": true
   },
   "outputs": [],
   "source": []
  }
 ],
 "metadata": {
  "kernelspec": {
   "display_name": "Python 3",
   "language": "python",
   "name": "python3"
  },
  "language_info": {
   "codemirror_mode": {
    "name": "ipython",
    "version": 3
   },
   "file_extension": ".py",
   "mimetype": "text/x-python",
   "name": "python",
   "nbconvert_exporter": "python",
   "pygments_lexer": "ipython3",
   "version": "3.6.0"
  }
 },
 "nbformat": 4,
 "nbformat_minor": 2
}
